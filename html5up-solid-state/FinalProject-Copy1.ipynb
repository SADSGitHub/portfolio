{
 "cells": [
  {
   "cell_type": "code",
   "execution_count": null,
   "id": "5b459e2b",
   "metadata": {},
   "outputs": [],
   "source": [
    "#******************************************************************************************\n",
    "#******************************************************************************************\n",
    "#****************************     Linear Reggression     **********************************\n",
    "#******************************************************************************************\n",
    "#******************************************************************************************"
   ]
  },
  {
   "cell_type": "code",
   "execution_count": null,
   "id": "5622cd9e",
   "metadata": {},
   "outputs": [],
   "source": [
    "#Standard Imports\n",
    "import pandas as pd\n",
    "import numpy as np\n",
    "from sklearn import preprocessing as pre\n",
    "import os"
   ]
  },
  {
   "cell_type": "code",
   "execution_count": 349,
   "id": "b53c5931",
   "metadata": {},
   "outputs": [],
   "source": [
    "#Read in data set\n",
    "#change path to location of data files on your pc\n",
    "os.chdir('C:/Users/saust/OneDrive - Louisiana State University/2. IE7429/Term Project/')  \n",
    "df =  pd.read_csv('ConditionMonitoring.csv') "
   ]
  },
  {
   "cell_type": "code",
   "execution_count": 350,
   "id": "cf0bb610",
   "metadata": {},
   "outputs": [],
   "source": [
    "#******************************************************************************************\n",
    "#******************************************************************************************\n",
    "#*************************     CHARACTERIZE THE DATA     **********************************\n",
    "#******************************************************************************************\n",
    "#******************************************************************************************"
   ]
  },
  {
   "cell_type": "code",
   "execution_count": 351,
   "id": "7284fe52",
   "metadata": {},
   "outputs": [
    {
     "name": "stdout",
     "output_type": "stream",
     "text": [
      "Basic info about the dataframe and its rows and columns:\n",
      "\n",
      "<class 'pandas.core.frame.DataFrame'>\n",
      "RangeIndex: 470 entries, 0 to 469\n",
      "Data columns (total 15 columns):\n",
      " #   Column               Non-Null Count  Dtype  \n",
      "---  ------               --------------  -----  \n",
      " 0   Hydrogen             470 non-null    int64  \n",
      " 1   Oxigen               470 non-null    int64  \n",
      " 2   Nitrogen             470 non-null    int64  \n",
      " 3   Methane              470 non-null    int64  \n",
      " 4   CO                   470 non-null    int64  \n",
      " 5   CO2                  470 non-null    int64  \n",
      " 6   Ethylene             470 non-null    int64  \n",
      " 7   Ethane               470 non-null    int64  \n",
      " 8   Acethylene           470 non-null    int64  \n",
      " 9   DBDS                 470 non-null    float64\n",
      " 10  Power factor         470 non-null    float64\n",
      " 11  Interfacial V        470 non-null    int64  \n",
      " 12  Dielectric rigidity  470 non-null    int64  \n",
      " 13  Water content        470 non-null    int64  \n",
      " 14  Health index         470 non-null    float64\n",
      "dtypes: float64(3), int64(12)\n",
      "memory usage: 55.2 KB\n"
     ]
    }
   ],
   "source": [
    "print('Basic info about the dataframe and its rows and columns:')\n",
    "print()\n",
    "df.info()"
   ]
  },
  {
   "cell_type": "code",
   "execution_count": 352,
   "id": "52e5ae04",
   "metadata": {},
   "outputs": [
    {
     "name": "stdout",
     "output_type": "stream",
     "text": [
      "Number of unique values for all columns:\n"
     ]
    },
    {
     "data": {
      "text/plain": [
       "Hydrogen               111\n",
       "Oxigen                 382\n",
       "Nitrogen               317\n",
       "Methane                 74\n",
       "CO                     298\n",
       "CO2                    374\n",
       "Ethylene                61\n",
       "Ethane                 141\n",
       "Acethylene              26\n",
       "DBDS                    57\n",
       "Power factor           172\n",
       "Interfacial V           29\n",
       "Dielectric rigidity     41\n",
       "Water content           63\n",
       "Health index            65\n",
       "dtype: int64"
      ]
     },
     "execution_count": 352,
     "metadata": {},
     "output_type": "execute_result"
    }
   ],
   "source": [
    "print(\"Number of unique values for all columns:\")\n",
    "df.nunique(axis=0)"
   ]
  },
  {
   "cell_type": "code",
   "execution_count": 353,
   "id": "4e8b6747",
   "metadata": {},
   "outputs": [
    {
     "name": "stdout",
     "output_type": "stream",
     "text": [
      "Data Preview\n"
     ]
    },
    {
     "data": {
      "text/html": [
       "<div>\n",
       "<style scoped>\n",
       "    .dataframe tbody tr th:only-of-type {\n",
       "        vertical-align: middle;\n",
       "    }\n",
       "\n",
       "    .dataframe tbody tr th {\n",
       "        vertical-align: top;\n",
       "    }\n",
       "\n",
       "    .dataframe thead th {\n",
       "        text-align: right;\n",
       "    }\n",
       "</style>\n",
       "<table border=\"1\" class=\"dataframe\">\n",
       "  <thead>\n",
       "    <tr style=\"text-align: right;\">\n",
       "      <th></th>\n",
       "      <th>Hydrogen</th>\n",
       "      <th>Oxigen</th>\n",
       "      <th>Nitrogen</th>\n",
       "      <th>Methane</th>\n",
       "      <th>CO</th>\n",
       "      <th>CO2</th>\n",
       "      <th>Ethylene</th>\n",
       "      <th>Ethane</th>\n",
       "      <th>Acethylene</th>\n",
       "      <th>DBDS</th>\n",
       "      <th>Power factor</th>\n",
       "      <th>Interfacial V</th>\n",
       "      <th>Dielectric rigidity</th>\n",
       "      <th>Water content</th>\n",
       "      <th>Health index</th>\n",
       "    </tr>\n",
       "  </thead>\n",
       "  <tbody>\n",
       "    <tr>\n",
       "      <th>0</th>\n",
       "      <td>2845</td>\n",
       "      <td>5860</td>\n",
       "      <td>27842</td>\n",
       "      <td>7406</td>\n",
       "      <td>32</td>\n",
       "      <td>1344</td>\n",
       "      <td>16684</td>\n",
       "      <td>5467</td>\n",
       "      <td>7</td>\n",
       "      <td>19.0</td>\n",
       "      <td>1.00</td>\n",
       "      <td>45</td>\n",
       "      <td>55</td>\n",
       "      <td>0</td>\n",
       "      <td>95.2</td>\n",
       "    </tr>\n",
       "    <tr>\n",
       "      <th>1</th>\n",
       "      <td>12886</td>\n",
       "      <td>61</td>\n",
       "      <td>25041</td>\n",
       "      <td>877</td>\n",
       "      <td>83</td>\n",
       "      <td>864</td>\n",
       "      <td>4</td>\n",
       "      <td>305</td>\n",
       "      <td>0</td>\n",
       "      <td>45.0</td>\n",
       "      <td>1.00</td>\n",
       "      <td>45</td>\n",
       "      <td>55</td>\n",
       "      <td>0</td>\n",
       "      <td>85.5</td>\n",
       "    </tr>\n",
       "    <tr>\n",
       "      <th>2</th>\n",
       "      <td>2820</td>\n",
       "      <td>16400</td>\n",
       "      <td>56300</td>\n",
       "      <td>144</td>\n",
       "      <td>257</td>\n",
       "      <td>1080</td>\n",
       "      <td>206</td>\n",
       "      <td>11</td>\n",
       "      <td>2190</td>\n",
       "      <td>1.0</td>\n",
       "      <td>1.00</td>\n",
       "      <td>39</td>\n",
       "      <td>52</td>\n",
       "      <td>11</td>\n",
       "      <td>85.3</td>\n",
       "    </tr>\n",
       "    <tr>\n",
       "      <th>3</th>\n",
       "      <td>1099</td>\n",
       "      <td>70</td>\n",
       "      <td>37520</td>\n",
       "      <td>545</td>\n",
       "      <td>184</td>\n",
       "      <td>1402</td>\n",
       "      <td>6</td>\n",
       "      <td>230</td>\n",
       "      <td>0</td>\n",
       "      <td>87.0</td>\n",
       "      <td>4.58</td>\n",
       "      <td>33</td>\n",
       "      <td>49</td>\n",
       "      <td>5</td>\n",
       "      <td>85.3</td>\n",
       "    </tr>\n",
       "    <tr>\n",
       "      <th>4</th>\n",
       "      <td>3210</td>\n",
       "      <td>3570</td>\n",
       "      <td>47900</td>\n",
       "      <td>160</td>\n",
       "      <td>360</td>\n",
       "      <td>2130</td>\n",
       "      <td>4</td>\n",
       "      <td>43</td>\n",
       "      <td>4</td>\n",
       "      <td>1.0</td>\n",
       "      <td>0.77</td>\n",
       "      <td>44</td>\n",
       "      <td>55</td>\n",
       "      <td>3</td>\n",
       "      <td>85.2</td>\n",
       "    </tr>\n",
       "  </tbody>\n",
       "</table>\n",
       "</div>"
      ],
      "text/plain": [
       "   Hydrogen  Oxigen  Nitrogen  Methane   CO   CO2  Ethylene  Ethane  \\\n",
       "0      2845    5860     27842     7406   32  1344     16684    5467   \n",
       "1     12886      61     25041      877   83   864         4     305   \n",
       "2      2820   16400     56300      144  257  1080       206      11   \n",
       "3      1099      70     37520      545  184  1402         6     230   \n",
       "4      3210    3570     47900      160  360  2130         4      43   \n",
       "\n",
       "   Acethylene  DBDS  Power factor  Interfacial V  Dielectric rigidity  \\\n",
       "0           7  19.0          1.00             45                   55   \n",
       "1           0  45.0          1.00             45                   55   \n",
       "2        2190   1.0          1.00             39                   52   \n",
       "3           0  87.0          4.58             33                   49   \n",
       "4           4   1.0          0.77             44                   55   \n",
       "\n",
       "   Water content  Health index  \n",
       "0              0          95.2  \n",
       "1              0          85.5  \n",
       "2             11          85.3  \n",
       "3              5          85.3  \n",
       "4              3          85.2  "
      ]
     },
     "execution_count": 353,
     "metadata": {},
     "output_type": "execute_result"
    }
   ],
   "source": [
    "print('Data Preview')\n",
    "df.head()"
   ]
  },
  {
   "cell_type": "code",
   "execution_count": 354,
   "id": "0d93da44",
   "metadata": {},
   "outputs": [
    {
     "name": "stdout",
     "output_type": "stream",
     "text": [
      "Summary statistics for all numerical columns:\n"
     ]
    },
    {
     "data": {
      "text/html": [
       "<div>\n",
       "<style scoped>\n",
       "    .dataframe tbody tr th:only-of-type {\n",
       "        vertical-align: middle;\n",
       "    }\n",
       "\n",
       "    .dataframe tbody tr th {\n",
       "        vertical-align: top;\n",
       "    }\n",
       "\n",
       "    .dataframe thead th {\n",
       "        text-align: right;\n",
       "    }\n",
       "</style>\n",
       "<table border=\"1\" class=\"dataframe\">\n",
       "  <thead>\n",
       "    <tr style=\"text-align: right;\">\n",
       "      <th></th>\n",
       "      <th>Hydrogen</th>\n",
       "      <th>Oxigen</th>\n",
       "      <th>Nitrogen</th>\n",
       "      <th>Methane</th>\n",
       "      <th>CO</th>\n",
       "      <th>CO2</th>\n",
       "      <th>Ethylene</th>\n",
       "      <th>Ethane</th>\n",
       "      <th>Acethylene</th>\n",
       "      <th>DBDS</th>\n",
       "      <th>Power factor</th>\n",
       "      <th>Interfacial V</th>\n",
       "      <th>Dielectric rigidity</th>\n",
       "      <th>Water content</th>\n",
       "      <th>Health index</th>\n",
       "    </tr>\n",
       "  </thead>\n",
       "  <tbody>\n",
       "    <tr>\n",
       "      <th>count</th>\n",
       "      <td>470.000000</td>\n",
       "      <td>470.000000</td>\n",
       "      <td>470.000000</td>\n",
       "      <td>470.000000</td>\n",
       "      <td>470.000000</td>\n",
       "      <td>470.000000</td>\n",
       "      <td>470.000000</td>\n",
       "      <td>470.000000</td>\n",
       "      <td>470.000000</td>\n",
       "      <td>470.000000</td>\n",
       "      <td>470.000000</td>\n",
       "      <td>470.000000</td>\n",
       "      <td>470.000000</td>\n",
       "      <td>470.000000</td>\n",
       "      <td>470.000000</td>\n",
       "    </tr>\n",
       "    <tr>\n",
       "      <th>mean</th>\n",
       "      <td>404.261702</td>\n",
       "      <td>8357.372340</td>\n",
       "      <td>47759.561702</td>\n",
       "      <td>79.695745</td>\n",
       "      <td>244.000000</td>\n",
       "      <td>1816.414894</td>\n",
       "      <td>162.923404</td>\n",
       "      <td>81.940426</td>\n",
       "      <td>91.491489</td>\n",
       "      <td>17.036596</td>\n",
       "      <td>1.849043</td>\n",
       "      <td>38.434043</td>\n",
       "      <td>53.495745</td>\n",
       "      <td>16.282979</td>\n",
       "      <td>27.504043</td>\n",
       "    </tr>\n",
       "    <tr>\n",
       "      <th>std</th>\n",
       "      <td>2002.142678</td>\n",
       "      <td>14164.233283</td>\n",
       "      <td>13760.451816</td>\n",
       "      <td>489.320336</td>\n",
       "      <td>237.267485</td>\n",
       "      <td>2256.790519</td>\n",
       "      <td>1323.811504</td>\n",
       "      <td>342.573636</td>\n",
       "      <td>644.365828</td>\n",
       "      <td>46.735057</td>\n",
       "      <td>6.144009</td>\n",
       "      <td>6.178830</td>\n",
       "      <td>6.458906</td>\n",
       "      <td>17.115646</td>\n",
       "      <td>17.741458</td>\n",
       "    </tr>\n",
       "    <tr>\n",
       "      <th>min</th>\n",
       "      <td>0.000000</td>\n",
       "      <td>57.000000</td>\n",
       "      <td>3600.000000</td>\n",
       "      <td>0.000000</td>\n",
       "      <td>10.000000</td>\n",
       "      <td>48.000000</td>\n",
       "      <td>0.000000</td>\n",
       "      <td>0.000000</td>\n",
       "      <td>0.000000</td>\n",
       "      <td>0.000000</td>\n",
       "      <td>0.050000</td>\n",
       "      <td>21.000000</td>\n",
       "      <td>27.000000</td>\n",
       "      <td>0.000000</td>\n",
       "      <td>13.400000</td>\n",
       "    </tr>\n",
       "    <tr>\n",
       "      <th>25%</th>\n",
       "      <td>4.000000</td>\n",
       "      <td>496.000000</td>\n",
       "      <td>41700.000000</td>\n",
       "      <td>2.000000</td>\n",
       "      <td>66.000000</td>\n",
       "      <td>641.750000</td>\n",
       "      <td>0.000000</td>\n",
       "      <td>0.000000</td>\n",
       "      <td>0.000000</td>\n",
       "      <td>0.000000</td>\n",
       "      <td>0.570000</td>\n",
       "      <td>32.000000</td>\n",
       "      <td>51.000000</td>\n",
       "      <td>5.000000</td>\n",
       "      <td>13.400000</td>\n",
       "    </tr>\n",
       "    <tr>\n",
       "      <th>50%</th>\n",
       "      <td>9.000000</td>\n",
       "      <td>3810.000000</td>\n",
       "      <td>49100.000000</td>\n",
       "      <td>3.000000</td>\n",
       "      <td>150.500000</td>\n",
       "      <td>1125.000000</td>\n",
       "      <td>3.000000</td>\n",
       "      <td>4.000000</td>\n",
       "      <td>0.000000</td>\n",
       "      <td>0.000000</td>\n",
       "      <td>1.000000</td>\n",
       "      <td>39.000000</td>\n",
       "      <td>54.000000</td>\n",
       "      <td>12.000000</td>\n",
       "      <td>13.400000</td>\n",
       "    </tr>\n",
       "    <tr>\n",
       "      <th>75%</th>\n",
       "      <td>34.000000</td>\n",
       "      <td>14875.000000</td>\n",
       "      <td>55875.000000</td>\n",
       "      <td>7.000000</td>\n",
       "      <td>361.750000</td>\n",
       "      <td>2257.500000</td>\n",
       "      <td>6.000000</td>\n",
       "      <td>69.750000</td>\n",
       "      <td>0.000000</td>\n",
       "      <td>2.000000</td>\n",
       "      <td>1.000000</td>\n",
       "      <td>44.000000</td>\n",
       "      <td>56.000000</td>\n",
       "      <td>21.000000</td>\n",
       "      <td>38.550000</td>\n",
       "    </tr>\n",
       "    <tr>\n",
       "      <th>max</th>\n",
       "      <td>23349.000000</td>\n",
       "      <td>249900.000000</td>\n",
       "      <td>85300.000000</td>\n",
       "      <td>7406.000000</td>\n",
       "      <td>1730.000000</td>\n",
       "      <td>24900.000000</td>\n",
       "      <td>16684.000000</td>\n",
       "      <td>5467.000000</td>\n",
       "      <td>9740.000000</td>\n",
       "      <td>227.000000</td>\n",
       "      <td>73.200000</td>\n",
       "      <td>57.000000</td>\n",
       "      <td>75.000000</td>\n",
       "      <td>183.000000</td>\n",
       "      <td>95.200000</td>\n",
       "    </tr>\n",
       "  </tbody>\n",
       "</table>\n",
       "</div>"
      ],
      "text/plain": [
       "           Hydrogen         Oxigen      Nitrogen      Methane           CO  \\\n",
       "count    470.000000     470.000000    470.000000   470.000000   470.000000   \n",
       "mean     404.261702    8357.372340  47759.561702    79.695745   244.000000   \n",
       "std     2002.142678   14164.233283  13760.451816   489.320336   237.267485   \n",
       "min        0.000000      57.000000   3600.000000     0.000000    10.000000   \n",
       "25%        4.000000     496.000000  41700.000000     2.000000    66.000000   \n",
       "50%        9.000000    3810.000000  49100.000000     3.000000   150.500000   \n",
       "75%       34.000000   14875.000000  55875.000000     7.000000   361.750000   \n",
       "max    23349.000000  249900.000000  85300.000000  7406.000000  1730.000000   \n",
       "\n",
       "                CO2      Ethylene       Ethane   Acethylene        DBDS  \\\n",
       "count    470.000000    470.000000   470.000000   470.000000  470.000000   \n",
       "mean    1816.414894    162.923404    81.940426    91.491489   17.036596   \n",
       "std     2256.790519   1323.811504   342.573636   644.365828   46.735057   \n",
       "min       48.000000      0.000000     0.000000     0.000000    0.000000   \n",
       "25%      641.750000      0.000000     0.000000     0.000000    0.000000   \n",
       "50%     1125.000000      3.000000     4.000000     0.000000    0.000000   \n",
       "75%     2257.500000      6.000000    69.750000     0.000000    2.000000   \n",
       "max    24900.000000  16684.000000  5467.000000  9740.000000  227.000000   \n",
       "\n",
       "       Power factor  Interfacial V  Dielectric rigidity  Water content  \\\n",
       "count    470.000000     470.000000           470.000000     470.000000   \n",
       "mean       1.849043      38.434043            53.495745      16.282979   \n",
       "std        6.144009       6.178830             6.458906      17.115646   \n",
       "min        0.050000      21.000000            27.000000       0.000000   \n",
       "25%        0.570000      32.000000            51.000000       5.000000   \n",
       "50%        1.000000      39.000000            54.000000      12.000000   \n",
       "75%        1.000000      44.000000            56.000000      21.000000   \n",
       "max       73.200000      57.000000            75.000000     183.000000   \n",
       "\n",
       "       Health index  \n",
       "count    470.000000  \n",
       "mean      27.504043  \n",
       "std       17.741458  \n",
       "min       13.400000  \n",
       "25%       13.400000  \n",
       "50%       13.400000  \n",
       "75%       38.550000  \n",
       "max       95.200000  "
      ]
     },
     "execution_count": 354,
     "metadata": {},
     "output_type": "execute_result"
    }
   ],
   "source": [
    "print('Summary statistics for all numerical columns:')\n",
    "df.describe()"
   ]
  },
  {
   "cell_type": "code",
   "execution_count": 355,
   "id": "79a2f4e4",
   "metadata": {},
   "outputs": [
    {
     "name": "stdout",
     "output_type": "stream",
     "text": [
      "Range of all columns\n"
     ]
    },
    {
     "data": {
      "text/plain": [
       "Hydrogen                23349.00\n",
       "Oxigen                 249843.00\n",
       "Nitrogen                81700.00\n",
       "Methane                  7406.00\n",
       "CO                       1720.00\n",
       "CO2                     24852.00\n",
       "Ethylene                16684.00\n",
       "Ethane                   5467.00\n",
       "Acethylene               9740.00\n",
       "DBDS                      227.00\n",
       "Power factor               73.15\n",
       "Interfacial V              36.00\n",
       "Dielectric rigidity        48.00\n",
       "Water content             183.00\n",
       "Health index               81.80\n",
       "dtype: float64"
      ]
     },
     "execution_count": 355,
     "metadata": {},
     "output_type": "execute_result"
    }
   ],
   "source": [
    "print('Range of all columns')\n",
    "df.max()-df.min()"
   ]
  },
  {
   "cell_type": "code",
   "execution_count": 356,
   "id": "d57a982e",
   "metadata": {},
   "outputs": [
    {
     "name": "stdout",
     "output_type": "stream",
     "text": [
      "Duplicate rows:\n"
     ]
    },
    {
     "data": {
      "text/html": [
       "<div>\n",
       "<style scoped>\n",
       "    .dataframe tbody tr th:only-of-type {\n",
       "        vertical-align: middle;\n",
       "    }\n",
       "\n",
       "    .dataframe tbody tr th {\n",
       "        vertical-align: top;\n",
       "    }\n",
       "\n",
       "    .dataframe thead th {\n",
       "        text-align: right;\n",
       "    }\n",
       "</style>\n",
       "<table border=\"1\" class=\"dataframe\">\n",
       "  <thead>\n",
       "    <tr style=\"text-align: right;\">\n",
       "      <th></th>\n",
       "      <th>Hydrogen</th>\n",
       "      <th>Oxigen</th>\n",
       "      <th>Nitrogen</th>\n",
       "      <th>Methane</th>\n",
       "      <th>CO</th>\n",
       "      <th>CO2</th>\n",
       "      <th>Ethylene</th>\n",
       "      <th>Ethane</th>\n",
       "      <th>Acethylene</th>\n",
       "      <th>DBDS</th>\n",
       "      <th>Power factor</th>\n",
       "      <th>Interfacial V</th>\n",
       "      <th>Dielectric rigidity</th>\n",
       "      <th>Water content</th>\n",
       "      <th>Health index</th>\n",
       "    </tr>\n",
       "  </thead>\n",
       "  <tbody>\n",
       "  </tbody>\n",
       "</table>\n",
       "</div>"
      ],
      "text/plain": [
       "Empty DataFrame\n",
       "Columns: [Hydrogen, Oxigen, Nitrogen, Methane, CO, CO2, Ethylene, Ethane, Acethylene, DBDS, Power factor, Interfacial V, Dielectric rigidity, Water content, Health index]\n",
       "Index: []"
      ]
     },
     "execution_count": 356,
     "metadata": {},
     "output_type": "execute_result"
    }
   ],
   "source": [
    "print(\"Duplicate rows:\")\n",
    "df[df.duplicated(keep=False)]"
   ]
  },
  {
   "cell_type": "code",
   "execution_count": 357,
   "id": "7e698e6b",
   "metadata": {},
   "outputs": [
    {
     "name": "stdout",
     "output_type": "stream",
     "text": [
      "Histograms of Each Field\n"
     ]
    },
    {
     "data": {
      "text/plain": [
       "array([[<AxesSubplot:title={'center':'Hydrogen'}>,\n",
       "        <AxesSubplot:title={'center':'Oxigen'}>,\n",
       "        <AxesSubplot:title={'center':'Nitrogen'}>,\n",
       "        <AxesSubplot:title={'center':'Methane'}>],\n",
       "       [<AxesSubplot:title={'center':'CO'}>,\n",
       "        <AxesSubplot:title={'center':'CO2'}>,\n",
       "        <AxesSubplot:title={'center':'Ethylene'}>,\n",
       "        <AxesSubplot:title={'center':'Ethane'}>],\n",
       "       [<AxesSubplot:title={'center':'Acethylene'}>,\n",
       "        <AxesSubplot:title={'center':'DBDS'}>,\n",
       "        <AxesSubplot:title={'center':'Power factor'}>,\n",
       "        <AxesSubplot:title={'center':'Interfacial V'}>],\n",
       "       [<AxesSubplot:title={'center':'Dielectric rigidity'}>,\n",
       "        <AxesSubplot:title={'center':'Water content'}>,\n",
       "        <AxesSubplot:title={'center':'Health index'}>, <AxesSubplot:>]],\n",
       "      dtype=object)"
      ]
     },
     "execution_count": 357,
     "metadata": {},
     "output_type": "execute_result"
    },
    {
     "data": {
      "image/png": "[encoded data removed]",
      "text/plain": [
       "<Figure size 1400x700 with 16 Axes>"
      ]
     },
     "metadata": {},
     "output_type": "display_data"
    }
   ],
   "source": [
    "print(\"Histograms of Each Field\")\n",
    "df.hist()"
   ]
  },
  {
   "cell_type": "code",
   "execution_count": 358,
   "id": "5255c82f",
   "metadata": {},
   "outputs": [
    {
     "name": "stdout",
     "output_type": "stream",
     "text": [
      "Identify skews in Histograms\n"
     ]
    },
    {
     "data": {
      "text/html": [
       "<div>\n",
       "<style scoped>\n",
       "    .dataframe tbody tr th:only-of-type {\n",
       "        vertical-align: middle;\n",
       "    }\n",
       "\n",
       "    .dataframe tbody tr th {\n",
       "        vertical-align: top;\n",
       "    }\n",
       "\n",
       "    .dataframe thead th {\n",
       "        text-align: right;\n",
       "    }\n",
       "</style>\n",
       "<table border=\"1\" class=\"dataframe\">\n",
       "  <thead>\n",
       "    <tr style=\"text-align: right;\">\n",
       "      <th></th>\n",
       "      <th>Hydrogen</th>\n",
       "      <th>Oxigen</th>\n",
       "      <th>Nitrogen</th>\n",
       "      <th>Methane</th>\n",
       "      <th>CO</th>\n",
       "      <th>CO2</th>\n",
       "      <th>Ethylene</th>\n",
       "      <th>Ethane</th>\n",
       "      <th>Acethylene</th>\n",
       "      <th>DBDS</th>\n",
       "      <th>Power factor</th>\n",
       "      <th>Interfacial V</th>\n",
       "      <th>Dielectric rigidity</th>\n",
       "      <th>Water content</th>\n",
       "      <th>Health index</th>\n",
       "    </tr>\n",
       "  </thead>\n",
       "  <tbody>\n",
       "    <tr>\n",
       "      <th>0</th>\n",
       "      <td>0</td>\n",
       "      <td>15700</td>\n",
       "      <td>56700</td>\n",
       "      <td>2</td>\n",
       "      <td>54</td>\n",
       "      <td>2750</td>\n",
       "      <td>0</td>\n",
       "      <td>0</td>\n",
       "      <td>0</td>\n",
       "      <td>0.0</td>\n",
       "      <td>1.0</td>\n",
       "      <td>32</td>\n",
       "      <td>55</td>\n",
       "      <td>4</td>\n",
       "      <td>13.4</td>\n",
       "    </tr>\n",
       "  </tbody>\n",
       "</table>\n",
       "</div>"
      ],
      "text/plain": [
       "   Hydrogen  Oxigen  Nitrogen  Methane  CO   CO2  Ethylene  Ethane  \\\n",
       "0         0   15700     56700        2  54  2750         0       0   \n",
       "\n",
       "   Acethylene  DBDS  Power factor  Interfacial V  Dielectric rigidity  \\\n",
       "0           0   0.0           1.0             32                   55   \n",
       "\n",
       "   Water content  Health index  \n",
       "0              4          13.4  "
      ]
     },
     "execution_count": 358,
     "metadata": {},
     "output_type": "execute_result"
    }
   ],
   "source": [
    "print('Identify skews in Histograms')\n",
    "df.mode()"
   ]
  },
  {
   "cell_type": "code",
   "execution_count": 359,
   "id": "0d5db530",
   "metadata": {},
   "outputs": [],
   "source": [
    "#******************************************************************************************\n",
    "#******************************************************************************************\n",
    "#****************************     PREPARE THE DATA     ************************************\n",
    "#******************************************************************************************\n",
    "#******************************************************************************************"
   ]
  },
  {
   "cell_type": "code",
   "execution_count": 360,
   "id": "0d19e1f9",
   "metadata": {},
   "outputs": [
    {
     "name": "stdout",
     "output_type": "stream",
     "text": [
      "Verify Rename:\n",
      "<class 'pandas.core.frame.DataFrame'>\n",
      "RangeIndex: 470 entries, 0 to 469\n",
      "Data columns (total 15 columns):\n",
      " #   Column               Non-Null Count  Dtype  \n",
      "---  ------               --------------  -----  \n",
      " 0   Hydrogen             470 non-null    int64  \n",
      " 1   Oxygen               470 non-null    int64  \n",
      " 2   Nitrogen             470 non-null    int64  \n",
      " 3   Methane              470 non-null    int64  \n",
      " 4   CO                   470 non-null    int64  \n",
      " 5   CO2                  470 non-null    int64  \n",
      " 6   Ethylene             470 non-null    int64  \n",
      " 7   Ethane               470 non-null    int64  \n",
      " 8   Acetylene            470 non-null    int64  \n",
      " 9   DBDS                 470 non-null    float64\n",
      " 10  Power factor         470 non-null    float64\n",
      " 11  Interfacial V        470 non-null    int64  \n",
      " 12  Dielectric rigidity  470 non-null    int64  \n",
      " 13  Water content        470 non-null    int64  \n",
      " 14  Health index         470 non-null    float64\n",
      "dtypes: float64(3), int64(12)\n",
      "memory usage: 55.2 KB\n"
     ]
    }
   ],
   "source": [
    "#Correct Field Spelling\n",
    "df = df.rename(columns={\"Oxigen\":\"Oxygen\",'Acethylene':'Acetylene'})\n",
    "print(\"Verify Rename:\")\n",
    "df.info()\n"
   ]
  },
  {
   "cell_type": "code",
   "execution_count": 361,
   "id": "e4ad6304",
   "metadata": {},
   "outputs": [],
   "source": [
    "#Normalization\n",
    "\n",
    "dfNoHI = df.loc[:]\n",
    "col_names =  dfNoHI.columns \n",
    "dfNoHI[col_names] = pd.DataFrame(pre.StandardScaler().fit_transform(pd.DataFrame(dfNoHI[col_names])))  \n",
    "\n",
    "\n",
    "\n",
    "df = dfNoHI\n",
    "\n"
   ]
  },
  {
   "cell_type": "code",
   "execution_count": 362,
   "id": "ef7ab484",
   "metadata": {},
   "outputs": [
    {
     "name": "stdout",
     "output_type": "stream",
     "text": [
      "                     Health index\n",
      "Health index             1.000000\n",
      "DBDS                     0.468809\n",
      "Interfacial V            0.400216\n",
      "Hydrogen                 0.377388\n",
      "Methane                  0.361770\n",
      "Water content            0.281165\n",
      "Ethylene                 0.271504\n",
      "Acetylene                0.240143\n",
      "Ethane                   0.236507\n",
      "CO2                      0.168777\n",
      "Oxygen                   0.121009\n",
      "CO                       0.112751\n",
      "Dielectric rigidity      0.104426\n",
      "Power factor             0.092729\n",
      "Nitrogen                 0.089455\n"
     ]
    }
   ],
   "source": [
    "#Correlation Matrix\n",
    "import matplotlib.pyplot as plt\n",
    "from matplotlib import rcParams\n",
    "rcParams['figure.figsize'] = 14, 7\n",
    "rcParams['axes.spines.top'] = False\n",
    "rcParams['axes.spines.right'] = False\n",
    "\n",
    "#create correlation matrix\n",
    "dfCorrM = df.corr()\n",
    "\n",
    "#stregnth of correlations\n",
    "out_HI=dfCorrM[[\"Health index\"]]\n",
    "out_HI=out_HI.apply(abs)\n",
    "out_HI.sort_values(by=\"Health index\",inplace=True, ascending=False)\n",
    "\n",
    "print(out_HI)"
   ]
  },
  {
   "cell_type": "code",
   "execution_count": 363,
   "id": "72c11365",
   "metadata": {},
   "outputs": [],
   "source": [
    "from sklearn.model_selection import train_test_split\n",
    "f = df.drop(columns=['Health index'])\n",
    "t = df['Health index']\n",
    "f_train, f_test, t_train, t_test = train_test_split(f, t, test_size=0.2)\n",
    "df_train = pd.concat([f_train,t_train],axis=1)\n",
    "df_test = pd.concat([f_test,t_test],axis=1)\n",
    "\n",
    "#Save preprocessed dataset to an Excel file (in separate sheets)\n",
    "with pd.ExcelWriter('C:/Users/saust/OneDrive/Desktop/results.xlsx') as writer:  \n",
    "    df_train.to_excel(writer,'Train')\n",
    "    df_test.to_excel(writer,'Test')\n",
    "    \n"
   ]
  },
  {
   "cell_type": "code",
   "execution_count": 364,
   "id": "1cf1212f",
   "metadata": {},
   "outputs": [
    {
     "data": {
      "image/png": "[encoded data removed]",
      "text/plain": [
       "<Figure size 1400x700 with 1 Axes>"
      ]
     },
     "metadata": {},
     "output_type": "display_data"
    }
   ],
   "source": [
    "X = df.drop(columns=['Health index'])\n",
    "Y = df['Health index']\n",
    "\n",
    "X = X.astype(int)\n",
    "Y = Y.astype(int)\n",
    "\n",
    "\n",
    "#Train the classifier.\n",
    "\n",
    "from xgboost import XGBClassifier\n",
    "model = XGBClassifier()\n",
    "model.fit(X,Y)\n",
    "\n",
    "#Extract importance for each feature (Attribute) from trained model\n",
    "importances = pd.DataFrame(data={\n",
    "    'Attribute': X.columns,\n",
    "    'Importance': model.feature_importances_})\n",
    "\n",
    "#sort by importance in descending order, and plot\n",
    "importances = importances.sort_values(by='Importance', ascending=False)\n",
    "plt.bar(x=importances['Attribute'], height=importances['Importance'], color='#087E8B')\n",
    "plt.title('Feature importances obtained from coefficients', size=20)\n",
    "plt.xticks(rotation='vertical')\n",
    "plt.show()\n"
   ]
  },
  {
   "cell_type": "code",
   "execution_count": 365,
   "id": "99ca5fdf",
   "metadata": {},
   "outputs": [],
   "source": [
    "dfReg = df.drop(columns=['Dielectric rigidity', 'Power factor','Nitrogen'])"
   ]
  },
  {
   "cell_type": "code",
   "execution_count": 366,
   "id": "90165bae",
   "metadata": {},
   "outputs": [],
   "source": [
    "#******************************************************************************************\n",
    "#******************************************************************************************\n",
    "#****************************     TRAIN THE MACHINE     ***********************************\n",
    "#******************************************************************************************\n",
    "#******************************************************************************************\n",
    "\n",
    "from sklearn.linear_model import LinearRegression\n",
    "import statsmodels.api as sm"
   ]
  },
  {
   "cell_type": "code",
   "execution_count": 367,
   "id": "20a635a7",
   "metadata": {},
   "outputs": [],
   "source": [
    "train = dfReg.sample(frac=0.80, random_state=125)"
   ]
  },
  {
   "cell_type": "code",
   "execution_count": 368,
   "id": "20e4d5b0",
   "metadata": {},
   "outputs": [],
   "source": [
    "test = dfReg.drop(train.index)"
   ]
  },
  {
   "cell_type": "code",
   "execution_count": 369,
   "id": "7db86756",
   "metadata": {},
   "outputs": [],
   "source": [
    "x = train.drop(columns=['Health index'])"
   ]
  },
  {
   "cell_type": "code",
   "execution_count": 370,
   "id": "0a536efc",
   "metadata": {},
   "outputs": [],
   "source": [
    "y = train[[\"Health index\"]]"
   ]
  },
  {
   "cell_type": "code",
   "execution_count": 371,
   "id": "bd4dcd93",
   "metadata": {},
   "outputs": [],
   "source": [
    "x = sm.add_constant(x)"
   ]
  },
  {
   "cell_type": "code",
   "execution_count": 372,
   "id": "700ca2ce",
   "metadata": {},
   "outputs": [],
   "source": [
    "model = sm.OLS(y,x).fit()"
   ]
  },
  {
   "cell_type": "code",
   "execution_count": 373,
   "id": "5446f10a",
   "metadata": {},
   "outputs": [],
   "source": [
    "xtest = test.drop(columns=['Health index'])"
   ]
  },
  {
   "cell_type": "code",
   "execution_count": 374,
   "id": "30e12eff",
   "metadata": {},
   "outputs": [],
   "source": [
    "xtest = sm.add_constant(xtest)"
   ]
  },
  {
   "cell_type": "code",
   "execution_count": 375,
   "id": "a397babb",
   "metadata": {},
   "outputs": [],
   "source": [
    "ytest = test[[\"Health index\"]]"
   ]
  },
  {
   "cell_type": "code",
   "execution_count": 376,
   "id": "db03589f",
   "metadata": {},
   "outputs": [
    {
     "data": {
      "text/html": [
       "<table class=\"simpletable\">\n",
       "<caption>OLS Regression Results</caption>\n",
       "<tr>\n",
       "  <th>Dep. Variable:</th>      <td>Health index</td>   <th>  R-squared:         </th> <td>   0.507</td>\n",
       "</tr>\n",
       "<tr>\n",
       "  <th>Model:</th>                   <td>OLS</td>       <th>  Adj. R-squared:    </th> <td>   0.493</td>\n",
       "</tr>\n",
       "<tr>\n",
       "  <th>Method:</th>             <td>Least Squares</td>  <th>  F-statistic:       </th> <td>   34.10</td>\n",
       "</tr>\n",
       "<tr>\n",
       "  <th>Date:</th>             <td>Sun, 09 Oct 2022</td> <th>  Prob (F-statistic):</th> <td>1.53e-49</td>\n",
       "</tr>\n",
       "<tr>\n",
       "  <th>Time:</th>                 <td>18:50:40</td>     <th>  Log-Likelihood:    </th> <td> -409.78</td>\n",
       "</tr>\n",
       "<tr>\n",
       "  <th>No. Observations:</th>      <td>   376</td>      <th>  AIC:               </th> <td>   843.6</td>\n",
       "</tr>\n",
       "<tr>\n",
       "  <th>Df Residuals:</th>          <td>   364</td>      <th>  BIC:               </th> <td>   890.7</td>\n",
       "</tr>\n",
       "<tr>\n",
       "  <th>Df Model:</th>              <td>    11</td>      <th>                     </th>     <td> </td>   \n",
       "</tr>\n",
       "<tr>\n",
       "  <th>Covariance Type:</th>      <td>nonrobust</td>    <th>                     </th>     <td> </td>   \n",
       "</tr>\n",
       "</table>\n",
       "<table class=\"simpletable\">\n",
       "<tr>\n",
       "        <td></td>           <th>coef</th>     <th>std err</th>      <th>t</th>      <th>P>|t|</th>  <th>[0.025</th>    <th>0.975]</th>  \n",
       "</tr>\n",
       "<tr>\n",
       "  <th>const</th>         <td>    0.0485</td> <td>    0.038</td> <td>    1.282</td> <td> 0.201</td> <td>   -0.026</td> <td>    0.123</td>\n",
       "</tr>\n",
       "<tr>\n",
       "  <th>Hydrogen</th>      <td>    0.1884</td> <td>    0.055</td> <td>    3.411</td> <td> 0.001</td> <td>    0.080</td> <td>    0.297</td>\n",
       "</tr>\n",
       "<tr>\n",
       "  <th>Oxygen</th>        <td>    0.0509</td> <td>    0.039</td> <td>    1.302</td> <td> 0.194</td> <td>   -0.026</td> <td>    0.128</td>\n",
       "</tr>\n",
       "<tr>\n",
       "  <th>Methane</th>       <td>    0.3859</td> <td>    0.127</td> <td>    3.044</td> <td> 0.003</td> <td>    0.137</td> <td>    0.635</td>\n",
       "</tr>\n",
       "<tr>\n",
       "  <th>CO</th>            <td>    0.0023</td> <td>    0.045</td> <td>    0.050</td> <td> 0.960</td> <td>   -0.086</td> <td>    0.090</td>\n",
       "</tr>\n",
       "<tr>\n",
       "  <th>CO2</th>           <td>    0.1030</td> <td>    0.043</td> <td>    2.397</td> <td> 0.017</td> <td>    0.018</td> <td>    0.187</td>\n",
       "</tr>\n",
       "<tr>\n",
       "  <th>Ethylene</th>      <td>   -0.0153</td> <td>    0.059</td> <td>   -0.258</td> <td> 0.797</td> <td>   -0.132</td> <td>    0.101</td>\n",
       "</tr>\n",
       "<tr>\n",
       "  <th>Ethane</th>        <td>   -0.2131</td> <td>    0.104</td> <td>   -2.051</td> <td> 0.041</td> <td>   -0.417</td> <td>   -0.009</td>\n",
       "</tr>\n",
       "<tr>\n",
       "  <th>Acetylene</th>     <td>    0.1495</td> <td>    0.060</td> <td>    2.508</td> <td> 0.013</td> <td>    0.032</td> <td>    0.267</td>\n",
       "</tr>\n",
       "<tr>\n",
       "  <th>DBDS</th>          <td>    0.4226</td> <td>    0.040</td> <td>   10.526</td> <td> 0.000</td> <td>    0.344</td> <td>    0.502</td>\n",
       "</tr>\n",
       "<tr>\n",
       "  <th>Interfacial V</th> <td>    0.2162</td> <td>    0.045</td> <td>    4.827</td> <td> 0.000</td> <td>    0.128</td> <td>    0.304</td>\n",
       "</tr>\n",
       "<tr>\n",
       "  <th>Water content</th> <td>   -0.0758</td> <td>    0.042</td> <td>   -1.806</td> <td> 0.072</td> <td>   -0.158</td> <td>    0.007</td>\n",
       "</tr>\n",
       "</table>\n",
       "<table class=\"simpletable\">\n",
       "<tr>\n",
       "  <th>Omnibus:</th>       <td>34.003</td> <th>  Durbin-Watson:     </th> <td>   1.903</td>\n",
       "</tr>\n",
       "<tr>\n",
       "  <th>Prob(Omnibus):</th> <td> 0.000</td> <th>  Jarque-Bera (JB):  </th> <td>  59.286</td>\n",
       "</tr>\n",
       "<tr>\n",
       "  <th>Skew:</th>          <td> 0.559</td> <th>  Prob(JB):          </th> <td>1.34e-13</td>\n",
       "</tr>\n",
       "<tr>\n",
       "  <th>Kurtosis:</th>      <td> 4.591</td> <th>  Cond. No.          </th> <td>    8.41</td>\n",
       "</tr>\n",
       "</table><br/><br/>Notes:<br/>[1] Standard Errors assume that the covariance matrix of the errors is correctly specified."
      ],
      "text/plain": [
       "<class 'statsmodels.iolib.summary.Summary'>\n",
       "\"\"\"\n",
       "                            OLS Regression Results                            \n",
       "==============================================================================\n",
       "Dep. Variable:           Health index   R-squared:                       0.507\n",
       "Model:                            OLS   Adj. R-squared:                  0.493\n",
       "Method:                 Least Squares   F-statistic:                     34.10\n",
       "Date:                Sun, 09 Oct 2022   Prob (F-statistic):           1.53e-49\n",
       "Time:                        18:50:40   Log-Likelihood:                -409.78\n",
       "No. Observations:                 376   AIC:                             843.6\n",
       "Df Residuals:                     364   BIC:                             890.7\n",
       "Df Model:                          11                                         \n",
       "Covariance Type:            nonrobust                                         \n",
       "=================================================================================\n",
       "                    coef    std err          t      P>|t|      [0.025      0.975]\n",
       "---------------------------------------------------------------------------------\n",
       "const             0.0485      0.038      1.282      0.201      -0.026       0.123\n",
       "Hydrogen          0.1884      0.055      3.411      0.001       0.080       0.297\n",
       "Oxygen            0.0509      0.039      1.302      0.194      -0.026       0.128\n",
       "Methane           0.3859      0.127      3.044      0.003       0.137       0.635\n",
       "CO                0.0023      0.045      0.050      0.960      -0.086       0.090\n",
       "CO2               0.1030      0.043      2.397      0.017       0.018       0.187\n",
       "Ethylene         -0.0153      0.059     -0.258      0.797      -0.132       0.101\n",
       "Ethane           -0.2131      0.104     -2.051      0.041      -0.417      -0.009\n",
       "Acetylene         0.1495      0.060      2.508      0.013       0.032       0.267\n",
       "DBDS              0.4226      0.040     10.526      0.000       0.344       0.502\n",
       "Interfacial V     0.2162      0.045      4.827      0.000       0.128       0.304\n",
       "Water content    -0.0758      0.042     -1.806      0.072      -0.158       0.007\n",
       "==============================================================================\n",
       "Omnibus:                       34.003   Durbin-Watson:                   1.903\n",
       "Prob(Omnibus):                  0.000   Jarque-Bera (JB):               59.286\n",
       "Skew:                           0.559   Prob(JB):                     1.34e-13\n",
       "Kurtosis:                       4.591   Cond. No.                         8.41\n",
       "==============================================================================\n",
       "\n",
       "Notes:\n",
       "[1] Standard Errors assume that the covariance matrix of the errors is correctly specified.\n",
       "\"\"\""
      ]
     },
     "execution_count": 376,
     "metadata": {},
     "output_type": "execute_result"
    }
   ],
   "source": [
    "\n",
    "model.summary()"
   ]
  },
  {
   "cell_type": "code",
   "execution_count": 384,
   "id": "c68c0134",
   "metadata": {},
   "outputs": [],
   "source": [
    "ypredictions=pd.DataFrame()"
   ]
  },
  {
   "cell_type": "code",
   "execution_count": 387,
   "id": "86494ce0",
   "metadata": {},
   "outputs": [],
   "source": [
    "ypredictions[\"prediction\"] = model.predict(xtest)"
   ]
  },
  {
   "cell_type": "code",
   "execution_count": 388,
   "id": "76b55131",
   "metadata": {},
   "outputs": [],
   "source": [
    "ycompare=pd.merge(ytest, ypredictions, left_index=True, right_index=True)"
   ]
  },
  {
   "cell_type": "code",
   "execution_count": 389,
   "id": "c7684f90",
   "metadata": {},
   "outputs": [
    {
     "data": {
      "text/html": [
       "<div>\n",
       "<style scoped>\n",
       "    .dataframe tbody tr th:only-of-type {\n",
       "        vertical-align: middle;\n",
       "    }\n",
       "\n",
       "    .dataframe tbody tr th {\n",
       "        vertical-align: top;\n",
       "    }\n",
       "\n",
       "    .dataframe thead th {\n",
       "        text-align: right;\n",
       "    }\n",
       "</style>\n",
       "<table border=\"1\" class=\"dataframe\">\n",
       "  <thead>\n",
       "    <tr style=\"text-align: right;\">\n",
       "      <th></th>\n",
       "      <th>Health index</th>\n",
       "      <th>prediction</th>\n",
       "    </tr>\n",
       "  </thead>\n",
       "  <tbody>\n",
       "    <tr>\n",
       "      <th>17</th>\n",
       "      <td>1.861804</td>\n",
       "      <td>3.645380</td>\n",
       "    </tr>\n",
       "    <tr>\n",
       "      <th>20</th>\n",
       "      <td>1.861804</td>\n",
       "      <td>0.907645</td>\n",
       "    </tr>\n",
       "    <tr>\n",
       "      <th>31</th>\n",
       "      <td>1.353977</td>\n",
       "      <td>-0.476364</td>\n",
       "    </tr>\n",
       "    <tr>\n",
       "      <th>35</th>\n",
       "      <td>1.308837</td>\n",
       "      <td>1.780751</td>\n",
       "    </tr>\n",
       "    <tr>\n",
       "      <th>41</th>\n",
       "      <td>1.308837</td>\n",
       "      <td>0.442126</td>\n",
       "    </tr>\n",
       "  </tbody>\n",
       "</table>\n",
       "</div>"
      ],
      "text/plain": [
       "    Health index  prediction\n",
       "17      1.861804    3.645380\n",
       "20      1.861804    0.907645\n",
       "31      1.353977   -0.476364\n",
       "35      1.308837    1.780751\n",
       "41      1.308837    0.442126"
      ]
     },
     "execution_count": 389,
     "metadata": {},
     "output_type": "execute_result"
    }
   ],
   "source": [
    "ycompare.head()"
   ]
  },
  {
   "cell_type": "code",
   "execution_count": 390,
   "id": "47a8a400",
   "metadata": {},
   "outputs": [],
   "source": [
    "ycompare[\"difference\"]=abs(ycompare[\"Health index\"]-ycompare[\"prediction\"])"
   ]
  },
  {
   "cell_type": "code",
   "execution_count": 391,
   "id": "3eac0e3a",
   "metadata": {},
   "outputs": [
    {
     "data": {
      "text/plain": [
       "count    94.000000\n",
       "mean      0.512549\n",
       "std       0.372977\n",
       "min       0.002525\n",
       "25%       0.257657\n",
       "50%       0.431484\n",
       "75%       0.834646\n",
       "max       1.830341\n",
       "Name: difference, dtype: float64"
      ]
     },
     "execution_count": 391,
     "metadata": {},
     "output_type": "execute_result"
    }
   ],
   "source": [
    "ycompare[\"difference\"].describe()"
   ]
  }
 ],
 "metadata": {
  "kernelspec": {
   "display_name": "Python 3 (ipykernel)",
   "language": "python",
   "name": "python3"
  },
  "language_info": {
   "codemirror_mode": {
    "name": "ipython",
    "version": 3
   },
   "file_extension": ".py",
   "mimetype": "text/x-python",
   "name": "python",
   "nbconvert_exporter": "python",
   "pygments_lexer": "ipython3",
   "version": "3.9.7"
  }
 },
 "nbformat": 4,
 "nbformat_minor": 5
}
